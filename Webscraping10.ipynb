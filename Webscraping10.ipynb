{
 "cells": [
  {
   "cell_type": "markdown",
   "id": "cc777815",
   "metadata": {},
   "source": [
    "## Webscraping the sec.gov\n",
    "\n",
    "### Goal\n",
    "Generate a list with all the urls from where to import the Income Statement table.\n",
    "\n",
    "### Steps\n",
    "\n",
    "1. download and read tsv files\n",
    "2. get the 'Directory Listing' from each company (item in tsv)\n",
    "3. keep only the 'Directory Listing' urls with R (report) files\n",
    "4. keep only the url for the R (report) that contains the Income Statement\n"
   ]
  },
  {
   "cell_type": "code",
   "execution_count": 2,
   "id": "d2751bc3",
   "metadata": {},
   "outputs": [],
   "source": [
    "import pandas as pd\n",
    "import numpy as np\n",
    "from urllib.request import Request, urlopen\n",
    "import edgar\n",
    "import requests\n",
    "import urllib.request"
   ]
  },
  {
   "cell_type": "code",
   "execution_count": 3,
   "id": "6508657c",
   "metadata": {},
   "outputs": [],
   "source": [
    "edgar.download_index(r'/Users/pedrosanhueza/EXOXY/Pedroskis/Programming/SEC_GOV',2018,\"Pedro Sanhueza pedroasd1205@gmail.com\",skip_all_present_except_last=False)"
   ]
  },
  {
   "cell_type": "code",
   "execution_count": 4,
   "id": "8b81ca73",
   "metadata": {
    "scrolled": true
   },
   "outputs": [
    {
     "name": "stdout",
     "output_type": "stream",
     "text": [
      "Type:  <class 'pandas.core.frame.DataFrame'>\n",
      "Rows:  361139\n"
     ]
    }
   ],
   "source": [
    "# read file\n",
    "file = '2021-QTR1.tsv'\n",
    "csv = pd.read_csv(file, sep='\\t',  lineterminator='\\n', names=None)\n",
    "\n",
    "print(\"Type: \", type(csv))\n",
    "print(\"Rows: \", csv.shape[0])"
   ]
  },
  {
   "cell_type": "code",
   "execution_count": 4,
   "id": "99352d5f",
   "metadata": {},
   "outputs": [
    {
     "name": "stdout",
     "output_type": "stream",
     "text": [
      "Rows with \"10-K\" forms:  6032\n",
      "Rows dropped:  355091\n",
      "Rows kept from total:  1.7 %\n"
     ]
    },
    {
     "data": {
      "text/html": [
       "<div>\n",
       "<style scoped>\n",
       "    .dataframe tbody tr th:only-of-type {\n",
       "        vertical-align: middle;\n",
       "    }\n",
       "\n",
       "    .dataframe tbody tr th {\n",
       "        vertical-align: top;\n",
       "    }\n",
       "\n",
       "    .dataframe thead th {\n",
       "        text-align: right;\n",
       "    }\n",
       "</style>\n",
       "<table border=\"1\" class=\"dataframe\">\n",
       "  <thead>\n",
       "    <tr style=\"text-align: right;\">\n",
       "      <th></th>\n",
       "      <th>Item</th>\n",
       "    </tr>\n",
       "  </thead>\n",
       "  <tbody>\n",
       "    <tr>\n",
       "      <th>78</th>\n",
       "      <td>1000209|MEDALLION FINANCIAL CORP|10-K|2021-03-...</td>\n",
       "    </tr>\n",
       "    <tr>\n",
       "      <th>96</th>\n",
       "      <td>1000228|HENRY SCHEIN INC|10-K|2021-02-17|edgar...</td>\n",
       "    </tr>\n",
       "    <tr>\n",
       "      <th>151</th>\n",
       "      <td>1000229|CORE LABORATORIES N V|10-K|2021-02-08|...</td>\n",
       "    </tr>\n",
       "    <tr>\n",
       "      <th>180</th>\n",
       "      <td>1000232|KENTUCKY BANCSHARES INC /KY/|10-K|2021...</td>\n",
       "    </tr>\n",
       "    <tr>\n",
       "      <th>772</th>\n",
       "      <td>1000298|IMPAC MORTGAGE HOLDINGS INC|10-K|2021-...</td>\n",
       "    </tr>\n",
       "  </tbody>\n",
       "</table>\n",
       "</div>"
      ],
      "text/plain": [
       "                                                  Item\n",
       "78   1000209|MEDALLION FINANCIAL CORP|10-K|2021-03-...\n",
       "96   1000228|HENRY SCHEIN INC|10-K|2021-02-17|edgar...\n",
       "151  1000229|CORE LABORATORIES N V|10-K|2021-02-08|...\n",
       "180  1000232|KENTUCKY BANCSHARES INC /KY/|10-K|2021...\n",
       "772  1000298|IMPAC MORTGAGE HOLDINGS INC|10-K|2021-..."
      ]
     },
     "execution_count": 4,
     "metadata": {},
     "output_type": "execute_result"
    }
   ],
   "source": [
    "# Add column name\n",
    "csv.columns.values[0] = 'Item'\n",
    "\n",
    "# Keep companies that have 10-k file report\n",
    "selectedreport = '10-K'\n",
    "companyreport = csv[(csv['Item'].str.contains(selectedreport))]\n",
    "\n",
    "# EDA\n",
    "print(\"Rows with \\\"10-K\\\" forms: \",companyreport.shape[0])\n",
    "print(\"Rows dropped: \", csv.shape[0]-companyreport.shape[0])\n",
    "print(\"Rows kept from total: \", round(companyreport.shape[0]*100/csv.shape[0],1),\"%\")\n",
    "\n",
    "# Showcase result\n",
    "companyreport.head()"
   ]
  },
  {
   "cell_type": "code",
   "execution_count": 5,
   "id": "24fae92e",
   "metadata": {},
   "outputs": [
    {
     "data": {
      "text/plain": [
       "[['1000209',\n",
       "  'MEDALLION FINANCIAL CORP',\n",
       "  '10-K',\n",
       "  '2021-03-16',\n",
       "  'edgar/data/1000209/0001564590-21-013216.txt',\n",
       "  'edgar/data/1000209/0001564590-21-013216-index.html\\r'],\n",
       " ['1000228',\n",
       "  'HENRY SCHEIN INC',\n",
       "  '10-K',\n",
       "  '2021-02-17',\n",
       "  'edgar/data/1000228/0001000228-21-000019.txt',\n",
       "  'edgar/data/1000228/0001000228-21-000019-index.html\\r'],\n",
       " ['1000229',\n",
       "  'CORE LABORATORIES N V',\n",
       "  '10-K',\n",
       "  '2021-02-08',\n",
       "  'edgar/data/1000229/0001564590-21-004561.txt',\n",
       "  'edgar/data/1000229/0001564590-21-004561-index.html\\r']]"
      ]
     },
     "execution_count": 5,
     "metadata": {},
     "output_type": "execute_result"
    }
   ],
   "source": [
    "# Convert to object\n",
    "Filing = companyreport['Item'].str.split('|')\n",
    "# Convert to list\n",
    "Filing = Filing.to_list()\n",
    "Filing[0:3]"
   ]
  },
  {
   "cell_type": "code",
   "execution_count": 6,
   "id": "04545bec",
   "metadata": {},
   "outputs": [
    {
     "name": "stdout",
     "output_type": "stream",
     "text": [
      "Looped 6032 times.\n"
     ]
    },
    {
     "data": {
      "text/plain": [
       "['https://www.sec.gov/Archives/edgar/data/1000209/000156459021013216',\n",
       " 'https://www.sec.gov/Archives/edgar/data/1000228/000100022821000019',\n",
       " 'https://www.sec.gov/Archives/edgar/data/1000229/000156459021004561',\n",
       " 'https://www.sec.gov/Archives/edgar/data/1000232/000155837021002326',\n",
       " 'https://www.sec.gov/Archives/edgar/data/1000298/000155837021002945',\n",
       " 'https://www.sec.gov/Archives/edgar/data/1000623/000100062321000047',\n",
       " 'https://www.sec.gov/Archives/edgar/data/1000683/000121390021017745',\n",
       " 'https://www.sec.gov/Archives/edgar/data/1000694/000100069421000004',\n",
       " 'https://www.sec.gov/Archives/edgar/data/1000697/000119312521054385',\n",
       " 'https://www.sec.gov/Archives/edgar/data/1000753/000100075321000009',\n",
       " 'https://www.sec.gov/Archives/edgar/data/1001082/000155837021001322',\n",
       " 'https://www.sec.gov/Archives/edgar/data/1001171/000114036121011100',\n",
       " 'https://www.sec.gov/Archives/edgar/data/100122/000010012221000005',\n",
       " 'https://www.sec.gov/Archives/edgar/data/1001233/000162828021003069',\n",
       " 'https://www.sec.gov/Archives/edgar/data/1001316/000155837021002149']"
      ]
     },
     "execution_count": 6,
     "metadata": {},
     "output_type": "execute_result"
    }
   ],
   "source": [
    "# Extract html from list and save them in a different list\n",
    "count=0\n",
    "html_list= []\n",
    "for item in Filing:\n",
    "    html_list.append('https://www.sec.gov/Archives/' + Filing[count][5])\n",
    "    html_list[count] = html_list[count].replace(\"-\",\"\").replace('index.html\\r','')\n",
    "    count+=1\n",
    "print(\"Looped\",count,\"times.\")\n",
    "\n",
    "# showcase output\n",
    "html_list[0:15] "
   ]
  },
  {
   "cell_type": "code",
   "execution_count": 7,
   "id": "d6c68cba",
   "metadata": {
    "scrolled": false
   },
   "outputs": [
    {
     "name": "stdout",
     "output_type": "stream",
     "text": [
      "\n",
      "\n",
      "6032 Companies read\n",
      "1418 Companies w/out 10-K\n",
      "4614 URL's kept\n"
     ]
    }
   ],
   "source": [
    "# %%timeit 5.01 s ± 985 ms per loop (mean ± std. dev. of 7 runs, 1 loop each)\n",
    "# Keep only those url with R's files (ex. R1.htm)\n",
    "user_agent = 'jordan.tway@hcminst.com'\n",
    "headers={'User-Agent':user_agent,\n",
    "         'Accept': 'text/html,application/xhtml+xml,application/xml;q=0.9,*/*;q=0.8',\n",
    "         'Accept-Charset': 'ISO-8859-1,utf-8;q=0.7,*;q=0.3',\n",
    "         'Accept-Encoding': 'none',\n",
    "         'Accept-Language': 'en-US,en;q=0.8',\n",
    "         'Connection': 'keep-alive'} \n",
    "elements_in_html_list=0\n",
    "count=0\n",
    "contains=0\n",
    "not_contains=0\n",
    "html_list_FillingSummary = []\n",
    "\n",
    "\n",
    "# loop over each url and keep those that have the \"R.htm\" tables\n",
    "# only using first 20 companies for testing purposes\n",
    "for e in range(0, len(html_list)):\n",
    "    elements_in_html_list+=1\n",
    "    url = html_list[count]\n",
    "    request=urllib.request.Request(url,None,headers)\n",
    "    response = urllib.request.urlopen(request)\n",
    "    data = response.read()\n",
    "    df = pd.read_html(data)\n",
    "    if df[0]['Name'].str.contains(\"R1.htm\").any():\n",
    "        html_list_FillingSummary.append(html_list[contains])\n",
    "#         print(contains,\"added\", url)\n",
    "        contains+=1\n",
    "    else:\n",
    "#         print(\"index: \", contains, \"not working\")\n",
    "        not_contains+=1\n",
    "        contains+=1\n",
    "    count+=1\n",
    "\n",
    "print(\"\\n\")\n",
    "print(count,\"Companies read\")\n",
    "print(not_contains,\"Companies w/out 10-K\")\n",
    "print(len(html_list_FillingSummary), \"URL's kept\")"
   ]
  },
  {
   "cell_type": "code",
   "execution_count": 8,
   "id": "23f14467",
   "metadata": {},
   "outputs": [
    {
     "name": "stdout",
     "output_type": "stream",
     "text": [
      "Loops in \"html_list_FillingSummary\":  4614\n",
      "Loops overall 23070\n",
      "Companies read:  4614\n",
      "URL list length: 23070\n"
     ]
    },
    {
     "data": {
      "text/plain": [
       "['https://www.sec.gov/Archives/edgar/data/1000209/000156459021013216/R1.htm',\n",
       " 'https://www.sec.gov/Archives/edgar/data/1000209/000156459021013216/R2.htm',\n",
       " 'https://www.sec.gov/Archives/edgar/data/1000209/000156459021013216/R3.htm',\n",
       " 'https://www.sec.gov/Archives/edgar/data/1000209/000156459021013216/R4.htm',\n",
       " 'https://www.sec.gov/Archives/edgar/data/1000209/000156459021013216/R5.htm',\n",
       " 'https://www.sec.gov/Archives/edgar/data/1000228/000100022821000019/R1.htm',\n",
       " 'https://www.sec.gov/Archives/edgar/data/1000228/000100022821000019/R2.htm',\n",
       " 'https://www.sec.gov/Archives/edgar/data/1000228/000100022821000019/R3.htm',\n",
       " 'https://www.sec.gov/Archives/edgar/data/1000228/000100022821000019/R4.htm',\n",
       " 'https://www.sec.gov/Archives/edgar/data/1000228/000100022821000019/R5.htm']"
      ]
     },
     "execution_count": 8,
     "metadata": {},
     "output_type": "execute_result"
    }
   ],
   "source": [
    "# %%timeit 377 µs ± 21.6 µs per loop (mean ± std. dev. of 7 runs, 1,000 loops each)\n",
    "# Add R file extention to the URL's (-new list-)\n",
    "\n",
    "elements_in_html_list=0\n",
    "count=0\n",
    "total=0\n",
    "html_R_list = []\n",
    "\n",
    "for e in range(0, len(html_list_FillingSummary)):\n",
    "    elements_in_html_list+=1\n",
    "    r_count=1\n",
    "    for i in range(0,5):\n",
    "        url = html_list_FillingSummary[count] + \"/R\" + str(r_count) + \".htm\"\n",
    "        html_R_list.append(url)\n",
    "        r_count+=1\n",
    "        total+=1\n",
    "    count+=1\n",
    "\n",
    "print(\"Loops in \\\"html_list_FillingSummary\\\": \",elements_in_html_list)\n",
    "print(\"Loops overall\",total)\n",
    "print(\"Companies read: \",count)\n",
    "print(\"URL list length:\", len(html_R_list))\n",
    "\n",
    "# Companies with their first 4 R files\n",
    "html_R_list[0:10]"
   ]
  },
  {
   "cell_type": "code",
   "execution_count": 9,
   "id": "a5719a51",
   "metadata": {},
   "outputs": [
    {
     "data": {
      "text/plain": [
       "23070"
      ]
     },
     "execution_count": 9,
     "metadata": {},
     "output_type": "execute_result"
    }
   ],
   "source": [
    "len(html_R_list)"
   ]
  },
  {
   "cell_type": "code",
   "execution_count": 33,
   "id": "029413ec",
   "metadata": {
    "scrolled": true
   },
   "outputs": [
    {
     "name": "stdout",
     "output_type": "stream",
     "text": [
      "Index:  3 , Operations Appended--: https://www.sec.gov/Archives/edgar/data/1000209/000156459021013216/R4.htm\n",
      "Index:  8 , Income Appended------: https://www.sec.gov/Archives/edgar/data/1000228/000100022821000019/R4.htm\n",
      "Index:  13 , Operations Appended--: https://www.sec.gov/Archives/edgar/data/1000229/000156459021004561/R4.htm\n",
      "Index:  18 , Income Appended------: https://www.sec.gov/Archives/edgar/data/1000232/000155837021002326/R4.htm\n",
      "19 Loops\n"
     ]
    }
   ],
   "source": [
    "# %%timeit 22.2 s ± 1.03 s per loop (mean ± std. dev. of 7 runs, 1 loop each)\n",
    "# Open each url and look for income statement\n",
    "# append the correct urls to a new list\n",
    "\n",
    "elements_in_html_list=0\n",
    "contains=0\n",
    "count=0\n",
    "total=0\n",
    "loops = 0\n",
    "index=0\n",
    "nothing=0\n",
    "list_R_URL_filtered = []\n",
    "\n",
    "for e in html_R_list:\n",
    "# read url\n",
    "    url = html_R_list[count]\n",
    "    request=urllib.request.Request(url,None,headers)\n",
    "    response = urllib.request.urlopen(request)\n",
    "    data = response.read()\n",
    "    df = pd.read_html(data)\n",
    "# check for Income Statement\n",
    "    for e in df[0][0:1]:\n",
    "        loops+=1\n",
    "        if \"COMPREHENSIVE\" in e[index]:\n",
    "#             print(\"Comprehensive in index:\", count)\n",
    "            break\n",
    "        elif \"Comprehensive\" in e[index]:\n",
    "#             print(\"Comprehensive in index:\", count)\n",
    "            break\n",
    "        elif \"Parenthetical\" in e[index]:\n",
    "#             print(\"Parenthetical in index:\", count)\n",
    "            break\n",
    "        elif \"Operations\" in e[index]:\n",
    "            print(\"Index: \",count, \", Operations Appended--:\", url)\n",
    "            list_R_URL_filtered.append(url)\n",
    "            break\n",
    "        elif \"Income\" in e[index]:\n",
    "            print(\"Index: \",count, \", Income Appended------:\", url)\n",
    "            list_R_URL_filtered.append(url)\n",
    "            break\n",
    "        elif \"OPERATIONS\" in e[index]:\n",
    "            print(\"Index: \",count, \", Operations Appended--:\", url)\n",
    "            list_R_URL_filtered.append(url)\n",
    "            break\n",
    "        elif \"INCOME\" in e[index]:\n",
    "            print(\"Index: \",count, \", Income Appended------:\", url)\n",
    "            list_R_URL_filtered.append(url)\n",
    "            break\n",
    "        else:\n",
    "#             print(\"Nothing in index\", count)\n",
    "            nothing+=1\n",
    "            break\n",
    "    count+=1\n",
    "print(loops, \"Loops\")"
   ]
  },
  {
   "cell_type": "code",
   "execution_count": 11,
   "id": "0439bd14",
   "metadata": {},
   "outputs": [
    {
     "data": {
      "text/plain": [
       "15"
      ]
     },
     "execution_count": 11,
     "metadata": {},
     "output_type": "execute_result"
    }
   ],
   "source": [
    "len(list_R_URL_filtered)"
   ]
  },
  {
   "cell_type": "code",
   "execution_count": 12,
   "id": "47e4feb5",
   "metadata": {},
   "outputs": [
    {
     "name": "stdout",
     "output_type": "stream",
     "text": [
      "15 urls kept\n",
      "First 10 items in list:\n",
      "https://www.sec.gov/Archives/edgar/data/1000209/000156459021013216/R4.htm\n",
      "https://www.sec.gov/Archives/edgar/data/1000228/000100022821000019/R4.htm\n",
      "https://www.sec.gov/Archives/edgar/data/1000229/000156459021004561/R4.htm\n",
      "https://www.sec.gov/Archives/edgar/data/1000232/000155837021002326/R4.htm\n",
      "https://www.sec.gov/Archives/edgar/data/1000623/000100062321000047/R2.htm\n",
      "https://www.sec.gov/Archives/edgar/data/1000694/000100069421000004/R4.htm\n",
      "https://www.sec.gov/Archives/edgar/data/1000697/000119312521054385/R4.htm\n",
      "https://www.sec.gov/Archives/edgar/data/1000753/000100075321000009/R3.htm\n",
      "https://www.sec.gov/Archives/edgar/data/100122/000010012221000005/R2.htm\n",
      "https://www.sec.gov/Archives/edgar/data/1001233/000162828021003069/R4.htm\n"
     ]
    }
   ],
   "source": [
    "# see end result\n",
    "print(len(list_R_URL_filtered), \"urls kept\")\n",
    "print(\"First 10 items in list:\")\n",
    "for i in list_R_URL_filtered[0:10]:\n",
    "    print(i)"
   ]
  },
  {
   "cell_type": "code",
   "execution_count": 13,
   "id": "304f852e",
   "metadata": {},
   "outputs": [],
   "source": [
    "# Save with np\n",
    "\n",
    "np.savetxt(\"urls2.csv\", \n",
    "           list_R_URL_filtered,\n",
    "           delimiter =\", \", \n",
    "           fmt ='% s')"
   ]
  },
  {
   "cell_type": "code",
   "execution_count": 14,
   "id": "674c55e3",
   "metadata": {},
   "outputs": [],
   "source": [
    "# url = list_R_URL_filtered[8]\n",
    "# request=urllib.request.Request(url,None,headers)\n",
    "# response = urllib.request.urlopen(request)\n",
    "# data = response.read()\n",
    "# df = pd.read_html(data)[0] # first data frame of the list"
   ]
  },
  {
   "cell_type": "code",
   "execution_count": 15,
   "id": "3718ae1b",
   "metadata": {},
   "outputs": [],
   "source": [
    "# df.head()"
   ]
  },
  {
   "cell_type": "code",
   "execution_count": 16,
   "id": "8755f1c7",
   "metadata": {},
   "outputs": [],
   "source": [
    "# print(url)\n",
    "# df.columns[3]"
   ]
  },
  {
   "cell_type": "code",
   "execution_count": 17,
   "id": "b11eb162",
   "metadata": {},
   "outputs": [],
   "source": [
    "# type(df.columns[0])"
   ]
  },
  {
   "cell_type": "code",
   "execution_count": 18,
   "id": "e7810b72",
   "metadata": {},
   "outputs": [],
   "source": [
    "# df.columns[0]"
   ]
  },
  {
   "cell_type": "code",
   "execution_count": 19,
   "id": "303e2093",
   "metadata": {},
   "outputs": [],
   "source": [
    "# heading_list = list (df.columns[0])\n",
    "# heading_list"
   ]
  },
  {
   "cell_type": "code",
   "execution_count": 20,
   "id": "28c25a71",
   "metadata": {},
   "outputs": [],
   "source": [
    "# type(heading_list)"
   ]
  },
  {
   "cell_type": "code",
   "execution_count": 21,
   "id": "0a104f5f",
   "metadata": {},
   "outputs": [],
   "source": [
    "# del heading_list[0]\n",
    "# heading_list"
   ]
  },
  {
   "cell_type": "code",
   "execution_count": 22,
   "id": "71b47a17",
   "metadata": {},
   "outputs": [],
   "source": [
    "# heading_list = tuple(heading_list)"
   ]
  },
  {
   "cell_type": "code",
   "execution_count": 23,
   "id": "26b011db",
   "metadata": {},
   "outputs": [],
   "source": [
    "# type(heading_list)"
   ]
  },
  {
   "cell_type": "code",
   "execution_count": 24,
   "id": "3801e52e",
   "metadata": {},
   "outputs": [],
   "source": [
    "# df.columns.values[0] = \"Yes\""
   ]
  },
  {
   "cell_type": "code",
   "execution_count": 25,
   "id": "8d6b4a2d",
   "metadata": {},
   "outputs": [],
   "source": [
    "# df['CIK'] = url.split('/')[7]"
   ]
  },
  {
   "cell_type": "code",
   "execution_count": 26,
   "id": "c5860610",
   "metadata": {},
   "outputs": [],
   "source": [
    "# df1= df\n",
    "# df1.head()"
   ]
  },
  {
   "cell_type": "code",
   "execution_count": 27,
   "id": "7c2d074f",
   "metadata": {},
   "outputs": [],
   "source": [
    "# df2 = pd.concat([df, df1])"
   ]
  },
  {
   "cell_type": "code",
   "execution_count": 28,
   "id": "6c76fd27",
   "metadata": {
    "scrolled": false
   },
   "outputs": [],
   "source": [
    "# df2"
   ]
  },
  {
   "cell_type": "code",
   "execution_count": 29,
   "id": "b03af8c2",
   "metadata": {},
   "outputs": [],
   "source": [
    "# df.head()"
   ]
  },
  {
   "cell_type": "code",
   "execution_count": null,
   "id": "d3f2ebfc",
   "metadata": {},
   "outputs": [],
   "source": []
  },
  {
   "cell_type": "code",
   "execution_count": null,
   "id": "5641cd02",
   "metadata": {},
   "outputs": [],
   "source": []
  },
  {
   "cell_type": "code",
   "execution_count": null,
   "id": "5914c613",
   "metadata": {},
   "outputs": [],
   "source": []
  },
  {
   "cell_type": "code",
   "execution_count": null,
   "id": "c6c6eb78",
   "metadata": {},
   "outputs": [],
   "source": []
  },
  {
   "cell_type": "code",
   "execution_count": null,
   "id": "dacad965",
   "metadata": {},
   "outputs": [],
   "source": []
  },
  {
   "cell_type": "code",
   "execution_count": null,
   "id": "6885b9dc",
   "metadata": {},
   "outputs": [],
   "source": []
  },
  {
   "cell_type": "code",
   "execution_count": null,
   "id": "d10b93d6",
   "metadata": {},
   "outputs": [],
   "source": []
  },
  {
   "cell_type": "code",
   "execution_count": null,
   "id": "598436f5",
   "metadata": {},
   "outputs": [],
   "source": []
  },
  {
   "cell_type": "code",
   "execution_count": null,
   "id": "45eba7e6",
   "metadata": {},
   "outputs": [],
   "source": []
  },
  {
   "cell_type": "code",
   "execution_count": null,
   "id": "f8e1117a",
   "metadata": {},
   "outputs": [],
   "source": []
  },
  {
   "cell_type": "code",
   "execution_count": null,
   "id": "44c765a0",
   "metadata": {},
   "outputs": [],
   "source": []
  },
  {
   "cell_type": "code",
   "execution_count": null,
   "id": "d558ebfe",
   "metadata": {},
   "outputs": [],
   "source": []
  },
  {
   "cell_type": "code",
   "execution_count": null,
   "id": "7702e993",
   "metadata": {},
   "outputs": [],
   "source": []
  },
  {
   "cell_type": "code",
   "execution_count": null,
   "id": "c1a76046",
   "metadata": {},
   "outputs": [],
   "source": []
  },
  {
   "cell_type": "code",
   "execution_count": null,
   "id": "5d985913",
   "metadata": {},
   "outputs": [],
   "source": []
  },
  {
   "cell_type": "code",
   "execution_count": null,
   "id": "4ac2edac",
   "metadata": {},
   "outputs": [],
   "source": []
  },
  {
   "cell_type": "code",
   "execution_count": null,
   "id": "059501dc",
   "metadata": {},
   "outputs": [],
   "source": []
  },
  {
   "cell_type": "code",
   "execution_count": null,
   "id": "f8c9c224",
   "metadata": {},
   "outputs": [],
   "source": []
  },
  {
   "cell_type": "code",
   "execution_count": null,
   "id": "713e80c0",
   "metadata": {},
   "outputs": [],
   "source": []
  },
  {
   "cell_type": "code",
   "execution_count": null,
   "id": "82d8e96c",
   "metadata": {},
   "outputs": [],
   "source": []
  },
  {
   "cell_type": "code",
   "execution_count": null,
   "id": "a3da2dd2",
   "metadata": {},
   "outputs": [],
   "source": []
  },
  {
   "cell_type": "code",
   "execution_count": null,
   "id": "1e28f9ea",
   "metadata": {},
   "outputs": [],
   "source": []
  },
  {
   "cell_type": "code",
   "execution_count": null,
   "id": "bb400f90",
   "metadata": {},
   "outputs": [],
   "source": []
  },
  {
   "cell_type": "code",
   "execution_count": null,
   "id": "bd54ec8a",
   "metadata": {},
   "outputs": [],
   "source": []
  },
  {
   "cell_type": "code",
   "execution_count": null,
   "id": "9d4634ac",
   "metadata": {},
   "outputs": [],
   "source": []
  },
  {
   "cell_type": "code",
   "execution_count": null,
   "id": "2053dd84",
   "metadata": {},
   "outputs": [],
   "source": []
  },
  {
   "cell_type": "code",
   "execution_count": null,
   "id": "c441425d",
   "metadata": {},
   "outputs": [],
   "source": []
  },
  {
   "cell_type": "code",
   "execution_count": null,
   "id": "bc727686",
   "metadata": {},
   "outputs": [],
   "source": []
  },
  {
   "cell_type": "code",
   "execution_count": null,
   "id": "0d72d772",
   "metadata": {},
   "outputs": [],
   "source": []
  },
  {
   "cell_type": "code",
   "execution_count": null,
   "id": "33de4f3c",
   "metadata": {},
   "outputs": [],
   "source": []
  },
  {
   "cell_type": "code",
   "execution_count": null,
   "id": "17a532b7",
   "metadata": {},
   "outputs": [],
   "source": []
  },
  {
   "cell_type": "code",
   "execution_count": null,
   "id": "9411cc61",
   "metadata": {},
   "outputs": [],
   "source": []
  },
  {
   "cell_type": "code",
   "execution_count": null,
   "id": "a0a9c9a1",
   "metadata": {},
   "outputs": [],
   "source": []
  },
  {
   "cell_type": "code",
   "execution_count": null,
   "id": "ea9e240b",
   "metadata": {},
   "outputs": [],
   "source": []
  },
  {
   "cell_type": "code",
   "execution_count": null,
   "id": "e90e6246",
   "metadata": {},
   "outputs": [],
   "source": []
  },
  {
   "cell_type": "code",
   "execution_count": null,
   "id": "50dea403",
   "metadata": {},
   "outputs": [],
   "source": []
  },
  {
   "cell_type": "code",
   "execution_count": null,
   "id": "b34889c3",
   "metadata": {},
   "outputs": [],
   "source": []
  },
  {
   "cell_type": "code",
   "execution_count": null,
   "id": "085c9a9f",
   "metadata": {},
   "outputs": [],
   "source": []
  },
  {
   "cell_type": "code",
   "execution_count": null,
   "id": "c1047c49",
   "metadata": {},
   "outputs": [],
   "source": []
  },
  {
   "cell_type": "code",
   "execution_count": null,
   "id": "e284edec",
   "metadata": {},
   "outputs": [],
   "source": []
  },
  {
   "cell_type": "code",
   "execution_count": null,
   "id": "a8b71d9e",
   "metadata": {},
   "outputs": [],
   "source": []
  },
  {
   "cell_type": "code",
   "execution_count": null,
   "id": "f67db526",
   "metadata": {},
   "outputs": [],
   "source": []
  },
  {
   "cell_type": "code",
   "execution_count": null,
   "id": "95ed1fe8",
   "metadata": {},
   "outputs": [],
   "source": []
  },
  {
   "cell_type": "code",
   "execution_count": null,
   "id": "b3aa9eab",
   "metadata": {},
   "outputs": [],
   "source": []
  },
  {
   "cell_type": "code",
   "execution_count": null,
   "id": "ebc58a05",
   "metadata": {},
   "outputs": [],
   "source": []
  },
  {
   "cell_type": "code",
   "execution_count": null,
   "id": "50a69e8d",
   "metadata": {},
   "outputs": [],
   "source": []
  },
  {
   "cell_type": "code",
   "execution_count": null,
   "id": "7b07fd18",
   "metadata": {},
   "outputs": [],
   "source": []
  },
  {
   "cell_type": "code",
   "execution_count": null,
   "id": "6ac72ea2",
   "metadata": {},
   "outputs": [],
   "source": []
  },
  {
   "cell_type": "code",
   "execution_count": null,
   "id": "b82e409e",
   "metadata": {},
   "outputs": [],
   "source": []
  },
  {
   "cell_type": "code",
   "execution_count": null,
   "id": "f39266ed",
   "metadata": {},
   "outputs": [],
   "source": []
  },
  {
   "cell_type": "code",
   "execution_count": null,
   "id": "8c978ff0",
   "metadata": {},
   "outputs": [],
   "source": []
  },
  {
   "cell_type": "code",
   "execution_count": null,
   "id": "7c110a30",
   "metadata": {},
   "outputs": [],
   "source": []
  },
  {
   "cell_type": "code",
   "execution_count": null,
   "id": "778e7e20",
   "metadata": {},
   "outputs": [],
   "source": []
  },
  {
   "cell_type": "code",
   "execution_count": null,
   "id": "87e5a705",
   "metadata": {},
   "outputs": [],
   "source": []
  },
  {
   "cell_type": "code",
   "execution_count": null,
   "id": "14d1afed",
   "metadata": {},
   "outputs": [],
   "source": []
  },
  {
   "cell_type": "code",
   "execution_count": null,
   "id": "362d70a7",
   "metadata": {},
   "outputs": [],
   "source": []
  }
 ],
 "metadata": {
  "kernelspec": {
   "display_name": "Python 3 (ipykernel)",
   "language": "python",
   "name": "python3"
  },
  "language_info": {
   "codemirror_mode": {
    "name": "ipython",
    "version": 3
   },
   "file_extension": ".py",
   "mimetype": "text/x-python",
   "name": "python",
   "nbconvert_exporter": "python",
   "pygments_lexer": "ipython3",
   "version": "3.9.0"
  }
 },
 "nbformat": 4,
 "nbformat_minor": 5
}
